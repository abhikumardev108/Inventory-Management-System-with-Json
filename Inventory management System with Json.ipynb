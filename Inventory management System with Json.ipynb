{
 "cells": [
  {
   "cell_type": "code",
   "execution_count": 117,
   "id": "ee643881-7e7d-4e06-b73b-730230414c39",
   "metadata": {},
   "outputs": [],
   "source": [
    "# Importing the library\n",
    "import json\n",
    "import time\n",
    "\n",
    "# Initializing variable.\n",
    "sale = ''   # if any person doesn't buy anything then simply return empty strings.\n",
    "\n",
    "# Loading the Inventory records from JSON to String form.\n",
    "fd = open(\"Records.json\",'r')\n",
    "js = fd.read()\n",
    "fd.close()\n",
    "\n",
    "# Converting the records that are in the String to dictionary.\n",
    "record = json.loads(js)"
   ]
  },
  {
   "cell_type": "code",
   "execution_count": 110,
   "id": "66580e22-ec3c-47bd-9cd6-c0f165dbe46f",
   "metadata": {},
   "outputs": [
    {
     "data": {
      "text/plain": [
       "{'1001': {'Name': '5 Star', 'Price': 10, 'Qn': 100},\n",
       " '1002': {'Name': 'Bar-One', 'Price': 20, 'Qn': 90},\n",
       " '1003': {'Name': 'Candy', 'Price': 2, 'Qn': 1250},\n",
       " '1004': {'Name': 'Chocolate Cake', 'Price': 550, 'Qn': 3},\n",
       " '1005': {'Name': 'Blueberry cake', 'Price': 650, 'Qn': 7}}"
      ]
     },
     "execution_count": 110,
     "metadata": {},
     "output_type": "execute_result"
    }
   ],
   "source": [
    "record"
   ]
  },
  {
   "cell_type": "code",
   "execution_count": 118,
   "id": "a8ad9b31-1d59-4493-965c-29ee92f1bf6d",
   "metadata": {},
   "outputs": [
    {
     "name": "stdout",
     "output_type": "stream",
     "text": [
      "---------------MENU---------------\n",
      "\n",
      "1001 : 5 Star \t| 10 \t| 65\n",
      "1002 : Bar-One \t| 20 \t| 0\n",
      "1003 : Candy \t| 2 \t| 1250\n",
      "1004 : Chocolate Cake \t| 550 \t| 3\n",
      "1005 : Blueberry cake \t| 650 \t| 5\n",
      "-----------------------------------\n",
      "\n"
     ]
    },
    {
     "name": "stdin",
     "output_type": "stream",
     "text": [
      "Enter your name         :  ankit\n",
      "Enter Phone name        :  87654321\n",
      "Enter Email_ID          :  dfg@gmail.com\n",
      "Enter Product ID        :  1004\n",
      "Enter Quantity          :  2\n"
     ]
    },
    {
     "name": "stdout",
     "output_type": "stream",
     "text": [
      "-------------------------------------\n",
      "               Bill                 \n",
      "\n",
      "Name                 : Chocolate Cake\n",
      "Price                : 550\n",
      "Quantity             : 2\n",
      "-------------------------------------\n",
      "Billing Amount       : Rs. 1100\n",
      "-------------------------------------\n",
      "Thanks....Visit again!...Inventory updated!.\n",
      "-------------------------------------\n"
     ]
    }
   ],
   "source": [
    "# Displaying MENU.\n",
    "print(\"---------------MENU---------------\\n\")\n",
    "for key in record.keys() :\n",
    "    print(key, \":\",record[key]['Name'],\"\\t|\",record[key]['Price'],\"\\t|\",record[key]['Qn'])\n",
    "print(\"-----------------------------------\\n\")\n",
    "\n",
    "# Taking user Information as inputs.\n",
    "ui_name  = input(\"Enter your name         : \")\n",
    "ui_phone = input(\"Enter Phone name        : \")\n",
    "ui_mail  = input(\"Enter Email_ID          : \")\n",
    "ui_pr    = str(input(\"Enter Product ID        : \"))\n",
    "ui_qn    = int(input(\"Enter Quantity          : \"))\n",
    "\n",
    "# If we have enough or equal quantity that the users wants.\n",
    "if(record[ui_pr]['Qn'] >= ui_qn) :\n",
    "\n",
    "    # Displaying purcahse details.\n",
    "    print(\"-------------------------------------\")\n",
    "    print(\"               Bill                 \\n\")\n",
    "    print(\"Name                 :\",record[ui_pr]['Name'])\n",
    "    print(\"Price                :\",record[ui_pr]['Price'])\n",
    "    print(\"Quantity             :\",ui_qn)\n",
    "    print(\"-------------------------------------\")\n",
    "    print(\"Billing Amount       :\",\"Rs.\",record[ui_pr]['Price'] * ui_qn)\n",
    "    print(\"-------------------------------------\")\n",
    "\n",
    "    # Updating records dictionary.\n",
    "    record[ui_pr]['Qn'] = record[ui_pr]['Qn'] - ui_qn\n",
    "\n",
    "    # Generating sales structures in csv.\n",
    "    sale = ui_name+\",\"+ui_phone+\",\"+ui_mail+\",\"+ui_pr+\",\"+record[ui_pr]['Name']+\",\"+str(ui_qn)+\",\"+str(record[ui_pr]['Price'])+\",\"+str(ui_qn * record[ui_pr]['Price'])+\",\"+time.ctime()+\"\\n\"\n",
    "\n",
    "# If we are not having enough or equal quantity that the users wants.Then do this.\n",
    "else :\n",
    "    print(\"Sorry, we are not having enough quantity in the Inventory.\")\n",
    "    print(\"We are only having\",record[ui_pr]['Qn'],\"quantity.\")\n",
    "    print(\"-------------------------------------\")\n",
    "\n",
    "    # If user wants to purchase whole quantity.\n",
    "    ch = input(\"Press Y/y to purchase : \")\n",
    "    if(ch == 'Y' or ch == 'y') :\n",
    "\n",
    "        # Displaying purchase details.\n",
    "        print(\"-------------------------------------\")\n",
    "        print(\"               Bill                 \\n\")\n",
    "        print(\"Name                 :\",record[ui_pr]['Name'])\n",
    "        print(\"Price                :\",record[ui_pr]['Price'])\n",
    "        print(\"Quantity             :\",record[ui_pr]['Qn'])\n",
    "        print(\"-------------------------------------\")\n",
    "        print(\"Billing Amount       :\",\"Rs.\",record[ui_pr]['Price'] * record[ui_pr]['Qn'])\n",
    "        print(\"-------------------------------------\")\n",
    "\n",
    "        # Generating sales structures in csv.\n",
    "        sale = ui_name+\",\"+ui_phone+\",\"+ui_mail+\",\"+ui_pr+\",\"+record[ui_pr]['Name']+\",\"+str(ui_qn)+\",\"+str(record[ui_pr]['Price'])+\",\"+str(record[ui_pr]['Qn'] * record[ui_pr]['Price'])+\",\"+time.ctime()+\"\\n\"\n",
    "\n",
    "        # Updating records dictionary.\n",
    "        record[ui_pr]['Qn'] = 0\n",
    "    else :\n",
    "        # If user press anything other than Y/y.\n",
    "        print(\"-------------------------------------\")\n",
    "\n",
    "# Converting JSON to String.\n",
    "js = json.dumps(record)\n",
    "\n",
    "# Saving records in JSON file.\n",
    "fd = open(\"Records.json\",'w')\n",
    "fd.write(js)\n",
    "fd.close()\n",
    "\n",
    "#Saving records in Sales file.\n",
    "fd = open('Sales.txt','a')\n",
    "fd.write(sale)\n",
    "fd.close()\n",
    "\n",
    "print(\"Thanks....Visit again!...Inventory updated!.\")\n",
    "print(\"-------------------------------------\")\n",
    "\n",
    "\n"
   ]
  },
  {
   "cell_type": "code",
   "execution_count": 119,
   "id": "975b4fe0-21bc-49c9-8f15-323145d1e596",
   "metadata": {},
   "outputs": [
    {
     "data": {
      "text/plain": [
       "{'1001': {'Name': '5 Star', 'Price': 10, 'Qn': 65},\n",
       " '1002': {'Name': 'Bar-One', 'Price': 20, 'Qn': 0},\n",
       " '1003': {'Name': 'Candy', 'Price': 2, 'Qn': 1250},\n",
       " '1004': {'Name': 'Chocolate Cake', 'Price': 550, 'Qn': 1},\n",
       " '1005': {'Name': 'Blueberry cake', 'Price': 650, 'Qn': 5}}"
      ]
     },
     "execution_count": 119,
     "metadata": {},
     "output_type": "execute_result"
    }
   ],
   "source": [
    "record"
   ]
  },
  {
   "cell_type": "code",
   "execution_count": null,
   "id": "df991be2-dba6-42df-ad99-084f1133196e",
   "metadata": {},
   "outputs": [],
   "source": []
  }
 ],
 "metadata": {
  "kernelspec": {
   "display_name": "Python 3 (ipykernel)",
   "language": "python",
   "name": "python3"
  },
  "language_info": {
   "codemirror_mode": {
    "name": "ipython",
    "version": 3
   },
   "file_extension": ".py",
   "mimetype": "text/x-python",
   "name": "python",
   "nbconvert_exporter": "python",
   "pygments_lexer": "ipython3",
   "version": "3.12.4"
  }
 },
 "nbformat": 4,
 "nbformat_minor": 5
}
